{
 "cells": [
  {
   "cell_type": "markdown",
   "metadata": {},
   "source": [
    "# Creating and Using Classes in Python 3"
   ]
  },
  {
   "cell_type": "markdown",
   "metadata": {},
   "source": [
    "## Exercise 1: Create a Line class that has two attributes (point1 and point2) and also two methods that calculate the distance between the two coordinates and the slope."
   ]
  },
  {
   "cell_type": "markdown",
   "metadata": {},
   "source": [
    "So to calculate the distance we know that the distance is represented as \"**d**\" and we have to calculate the square difference of the x coordinates of points one and two **(x1 & x2)** plus the square difference of the y coordinates of points one and two **(y1 & y2)** and finally calculate the root square of that operation as show below.\n",
    "\n",
    "$$d = \\sqrt{(x_1 - x_2)^2 + (y_1 - y_2)^2}$$"
   ]
  },
  {
   "cell_type": "markdown",
   "metadata": {},
   "source": [
    "Also we're given the task to calculate the slope which will be represented as \"**m**\" in order to obtain such slope we must calculate the difference between the y coordinates of points one and two (y1 & y2) and divide them by the difference between the x coordinates of points one and two (x1 & x2) as shown below.\n",
    "\n",
    "$$m = \\frac{y_2 - y_1}{x_2 - x_1}$$"
   ]
  },
  {
   "cell_type": "code",
   "execution_count": 22,
   "metadata": {},
   "outputs": [],
   "source": [
    "from collections import namedtuple\n",
    "import math"
   ]
  },
  {
   "cell_type": "code",
   "execution_count": 23,
   "metadata": {},
   "outputs": [],
   "source": [
    "class Line:\n",
    "    \n",
    "    def __init__(self, point1, point2):\n",
    "        self.point1 = point1\n",
    "        self.point2 = point2\n",
    "    \n",
    "    def distance(self):\n",
    "        return math.sqrt((self.point1.x - self.point2.x)**2 + (self.point1.y - self.point2.y)**2)\n",
    "    \n",
    "    def slope(self):\n",
    "        return (self.point2.y - self.point1.y)/(self.point2.x - self.point1.x)"
   ]
  },
  {
   "cell_type": "markdown",
   "metadata": {},
   "source": [
    "### Now lets execute an example to test our new class"
   ]
  },
  {
   "cell_type": "code",
   "execution_count": 24,
   "metadata": {},
   "outputs": [],
   "source": [
    "Point = namedtuple(\"Point\", \"x y\")\n",
    "point_one = Point(x=3, y=2)\n",
    "point_two = Point(x=8, y=10)\n",
    "li = Line(point_one, point_two)"
   ]
  },
  {
   "cell_type": "code",
   "execution_count": 26,
   "metadata": {},
   "outputs": [
    {
     "data": {
      "text/plain": [
       "9.433981132056603"
      ]
     },
     "execution_count": 26,
     "metadata": {},
     "output_type": "execute_result"
    }
   ],
   "source": [
    "math.sqrt((li.point1.x-li.point2.x)**2 + (li.point1.y - li.point2.y)**2)"
   ]
  },
  {
   "cell_type": "code",
   "execution_count": 13,
   "metadata": {},
   "outputs": [
    {
     "data": {
      "text/plain": [
       "1.6"
      ]
     },
     "execution_count": 13,
     "metadata": {},
     "output_type": "execute_result"
    }
   ],
   "source": [
    "li.slope()"
   ]
  },
  {
   "cell_type": "markdown",
   "metadata": {},
   "source": [
    "## Exercise 2: Create a cylinder class that contains two attributes (height and radius) and also two methods that calculate the volume and surface area of a cylinder."
   ]
  },
  {
   "cell_type": "markdown",
   "metadata": {},
   "source": [
    "So we'll be using the following formula to calculate the volume of a cylinder where \"**r**\" represents the radius, \"**h**\" represents the height and \"**V**\" represents the calculated volume of our cylinder.\n",
    "\n",
    "$$V = \\pi r^2 h$$"
   ]
  },
  {
   "cell_type": "markdown",
   "metadata": {},
   "source": [
    "Also to calculate the surface area will use the following formula where \"**r**\" represents the radius, \"**h**\" represents the height and \"**A**\" represents the surface area of the cylinder.\n",
    "\n",
    "$$A = 2\\pi r^2+ 2\\pi r h$$"
   ]
  },
  {
   "cell_type": "code",
   "execution_count": 36,
   "metadata": {},
   "outputs": [],
   "source": [
    "import math"
   ]
  },
  {
   "cell_type": "code",
   "execution_count": 37,
   "metadata": {},
   "outputs": [],
   "source": [
    "class Cylinder:\n",
    "    \n",
    "    def __init__(self, height=1, radius=1):\n",
    "        self.height = height\n",
    "        self.radius = radius\n",
    "    \n",
    "    def volume(self):\n",
    "        return math.pi*(self.radius**2)*self.height\n",
    "    \n",
    "    def surface_area(self):\n",
    "        return 2*math.pi*(self.radius**2) + 2*math.pi*self.radius*self.height"
   ]
  },
  {
   "cell_type": "markdown",
   "metadata": {},
   "source": [
    "### Now lets execute an example to test our new class"
   ]
  },
  {
   "cell_type": "code",
   "execution_count": 38,
   "metadata": {},
   "outputs": [],
   "source": [
    "c = Cylinder(2,3)"
   ]
  },
  {
   "cell_type": "code",
   "execution_count": 39,
   "metadata": {},
   "outputs": [
    {
     "data": {
      "text/plain": [
       "56.548667764616276"
      ]
     },
     "execution_count": 39,
     "metadata": {},
     "output_type": "execute_result"
    }
   ],
   "source": [
    "c.volume()"
   ]
  },
  {
   "cell_type": "code",
   "execution_count": 40,
   "metadata": {},
   "outputs": [
    {
     "data": {
      "text/plain": [
       "94.24777960769379"
      ]
     },
     "execution_count": 40,
     "metadata": {},
     "output_type": "execute_result"
    }
   ],
   "source": [
    "c.surface_area()"
   ]
  }
 ],
 "metadata": {
  "kernelspec": {
   "display_name": "Python 3",
   "language": "python",
   "name": "python3"
  },
  "language_info": {
   "codemirror_mode": {
    "name": "ipython",
    "version": 3
   },
   "file_extension": ".py",
   "mimetype": "text/x-python",
   "name": "python",
   "nbconvert_exporter": "python",
   "pygments_lexer": "ipython3",
   "version": "3.5.1"
  }
 },
 "nbformat": 4,
 "nbformat_minor": 2
}
